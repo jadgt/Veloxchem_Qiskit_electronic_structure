{
 "cells": [
  {
   "cell_type": "markdown",
   "metadata": {},
   "source": [
    "# Using CAS-VQE-UCC with Multipsi, veloxchem and Qiskit\n",
    "\n",
    "In this notebook I will show how to get the active space integrals from Multipsi and VeloxChem and transform those into Qbits that can be used in a Quantum Computer. In this case all the quantum part will be carried in IBM Qiskit"
   ]
  },
  {
   "cell_type": "code",
   "execution_count": 1,
   "metadata": {},
   "outputs": [
    {
     "name": "stderr",
     "output_type": "stream",
     "text": [
      "Warning: importing 'simtk.openmm' is deprecated.  Import 'openmm' instead.\n"
     ]
    },
    {
     "name": "stdout",
     "output_type": "stream",
     "text": [
      "* Warning * Environment variable OMP_NUM_THREADS not set.\n",
      "* Warning * Setting OMP_NUM_THREADS to 10.\n",
      "Available basis sets for oxygen:\n",
      " ['6-31++G', '6-31++G*', '6-31++G**', '6-31+G', '6-31+G*', '6-31+G**', '6-311++G', '6-311++G(2D,2P)', '6-311++G(3DF,3PD)', '6-311++G*', '6-311++G**', '6-311+G', '6-311+G(2D,P)', '6-311+G*', '6-311+G**', '6-311G', '6-311G(2DF,2PD)', '6-311G*', '6-311G**', '6-31G', '6-31G(2DF,P)', '6-31G(3DF,3PD)', '6-31G*', '6-31G**', 'ANO-L-MB', 'ANO-L-VDZP', 'ANO-L-VQZP', 'ANO-L-VTZP', 'ANO-S-MB', 'ANO-S-VDZP', 'AO-START-GUESS', 'AUG-CC-PCV5Z', 'AUG-CC-PCVDZ', 'AUG-CC-PCVQZ', 'AUG-CC-PCVTZ', 'AUG-CC-PV5Z', 'AUG-CC-PV6Z', 'AUG-CC-PVDZ', 'AUG-CC-PVQZ', 'AUG-CC-PVTZ', 'AUG-PCSEG-0', 'AUG-PCSEG-1', 'AUG-PCSEG-2', 'AUG-PCSEG-3', 'AUG-PCSEG-4', 'AUG-PCX-1', 'AUG-PCX-2', 'AUG-PCX-3', 'AUG-PCX-4', 'CC-PCV5Z', 'CC-PCVDZ', 'CC-PCVQZ', 'CC-PCVTZ', 'CC-PV5Z', 'CC-PV6Z', 'CC-PVDZ', 'CC-PVQZ', 'CC-PVTZ', 'DEF2-QZVP', 'DEF2-QZVPD', 'DEF2-QZVPP', 'DEF2-QZVPPD', 'DEF2-SV(P)', 'DEF2-SVP', 'DEF2-SVPD', 'DEF2-TZVP', 'DEF2-TZVPD', 'DEF2-TZVPP', 'DEF2-TZVPPD', 'PCSEG-0', 'PCSEG-1', 'PCSEG-2', 'PCSEG-3', 'PCSEG-4', 'PCX-1', 'PCX-2', 'PCX-3', 'PCX-4', 'SADLEJ-PVTZ', 'STO-3G', 'STO-3G-OLD', 'STO-6G']\n",
      "                                                                                                                          \n",
      "                                            Self Consistent Field Driver Setup                                            \n",
      "                                           ====================================                                           \n",
      "                                                                                                                          \n",
      "                   Wave Function Model             : Spin-Restricted Hartree-Fock                                         \n",
      "                   Initial Guess Model             : Superposition of Atomic Densities                                    \n",
      "                   Convergence Accelerator         : Two Level Direct Inversion of Iterative Subspace                     \n",
      "                   Max. Number of Iterations       : 50                                                                   \n",
      "                   Max. Number of Error Vectors    : 10                                                                   \n",
      "                   Convergence Threshold           : 1.0e-06                                                              \n",
      "                   ERI Screening Scheme            : Cauchy Schwarz + Density                                             \n",
      "                   ERI Screening Mode              : Dynamic                                                              \n",
      "                   ERI Screening Threshold         : 1.0e-12                                                              \n",
      "                   Linear Dependence Threshold     : 1.0e-06                                                              \n",
      "                                                                                                                          \n",
      "* Info * Nuclear repulsion energy: 9.3436381577 a.u.                                                                      \n",
      "                                                                                                                          \n",
      "* Info * Overlap matrix computed in 0.01 sec.                                                                             \n",
      "                                                                                                                          \n",
      "* Info * Kinetic energy matrix computed in 0.00 sec.                                                                      \n",
      "                                                                                                                          \n",
      "* Info * Nuclear potential matrix computed in 0.00 sec.                                                                   \n",
      "                                                                                                                          \n",
      "* Info * Orthogonalization matrix computed in 0.00 sec.                                                                   \n",
      "                                                                                                                          \n",
      "* Info * SAD initial guess computed in 0.00 sec.                                                                          \n",
      "                                                                                                                          \n",
      "* Info * Starting Reduced Basis SCF calculation...                                                                        \n",
      "* Info * ...done. SCF energy in reduced basis set: -76.014509621152 a.u. Time: 0.05 sec.                                  \n",
      "                                                                                                                          \n",
      "* Info * Overlap matrix computed in 0.00 sec.                                                                             \n",
      "                                                                                                                          \n",
      "* Info * Kinetic energy matrix computed in 0.00 sec.                                                                      \n",
      "                                                                                                                          \n",
      "* Info * Nuclear potential matrix computed in 0.00 sec.                                                                   \n",
      "                                                                                                                          \n",
      "* Info * Orthogonalization matrix computed in 0.00 sec.                                                                   \n",
      "                                                                                                                          \n",
      "                                                                                                                          \n",
      "               Iter. | Hartree-Fock Energy | Energy Change | Gradient Norm | Max. Gradient | Density Change               \n",
      "               --------------------------------------------------------------------------------------------               \n",
      "                  1       -76.055376986354    0.0000000000      0.11567053      0.01207669      0.00000000                \n",
      "                  2       -76.056547041581   -0.0011700552      0.02482735      0.00442842      0.03200974                \n",
      "                  3       -76.056632736265   -0.0000856947      0.00880136      0.00175586      0.00876030                \n",
      "                  4       -76.056642757702   -0.0000100214      0.00490644      0.00098454      0.00293069                \n",
      "                  5       -76.056645499264   -0.0000027416      0.00051338      0.00008462      0.00119970                \n",
      "                  6       -76.056645573537   -0.0000000743      0.00007082      0.00001173      0.00036887                \n",
      "                  7       -76.056645574958   -0.0000000014      0.00000829      0.00000123      0.00003961                \n",
      "                  8       -76.056645574979   -0.0000000000      0.00000191      0.00000030      0.00000781                \n",
      "                  9       -76.056645574981   -0.0000000000      0.00000026      0.00000004      0.00000098                \n",
      "                                                                                                                          \n",
      "               *** SCF converged in 9 iterations. Time: 0.55 sec.                                                         \n",
      "                                                                                                                          \n",
      "               Spin-Restricted Hartree-Fock:                                                                              \n",
      "               -----------------------------                                                                              \n",
      "               Total Energy                       :      -76.0566455750 a.u.                                              \n",
      "               Electronic Energy                  :      -85.4002837327 a.u.                                              \n",
      "               Nuclear Repulsion Energy           :        9.3436381577 a.u.                                              \n",
      "               ------------------------------------                                                                       \n",
      "               Gradient Norm                      :        0.0000002634 a.u.                                              \n",
      "                                                                                                                          \n",
      "                                                                                                                          \n",
      "               Ground State Information                                                                                   \n",
      "               ------------------------                                                                                   \n",
      "               Charge of Molecule            :  0.0                                                                       \n",
      "               Multiplicity (2S+1)           :  1.0                                                                       \n",
      "               Magnetic Quantum Number (M_S) :  0.0                                                                       \n",
      "                                                                                                                          \n",
      "                                                                                                                          \n",
      "                                                 Spin Restricted Orbitals                                                 \n",
      "                                                 ------------------------                                                 \n",
      "                                                                                                                          \n",
      "               Molecular Orbital No.   1:                                                                                 \n",
      "               --------------------------                                                                                 \n",
      "               Occupation: 2.000 Energy:  -20.56442 a.u.                                                                  \n",
      "               (   1 O   1s  :    -0.55) (   1 O   2s  :    -0.47)                                                        \n",
      "                                                                                                                          \n",
      "               Molecular Orbital No.   2:                                                                                 \n",
      "               --------------------------                                                                                 \n",
      "               Occupation: 2.000 Energy:   -1.36291 a.u.                                                                  \n",
      "               (   1 O   2s  :    -0.19) (   1 O   3s  :     0.54) (   1 O   4s  :     0.40)                              \n",
      "                                                                                                                          \n",
      "               Molecular Orbital No.   3:                                                                                 \n",
      "               --------------------------                                                                                 \n",
      "               Occupation: 2.000 Energy:   -0.72628 a.u.                                                                  \n",
      "               (   1 O   1p-1:     0.23) (   1 O   2p-1:     0.36) (   1 O   3p-1:     0.22)                              \n",
      "               (   2 H   2s  :     0.20) (   3 H   2s  :    -0.20)                                                        \n",
      "                                                                                                                          \n",
      "               Molecular Orbital No.   4:                                                                                 \n",
      "               --------------------------                                                                                 \n",
      "               Occupation: 2.000 Energy:   -0.59035 a.u.                                                                  \n",
      "               (   1 O   3s  :    -0.20) (   1 O   4s  :    -0.39) (   1 O   1p0 :     0.25)                              \n",
      "               (   1 O   2p0 :     0.39) (   1 O   3p0 :     0.26) (   2 H   2s  :     0.18)                              \n",
      "               (   3 H   2s  :     0.18)                                                                                  \n",
      "                                                                                                                          \n",
      "               Molecular Orbital No.   5:                                                                                 \n",
      "               --------------------------                                                                                 \n",
      "               Occupation: 2.000 Energy:   -0.51135 a.u.                                                                  \n",
      "               (   1 O   1p+1:     0.29) (   1 O   2p+1:     0.45) (   1 O   3p+1:     0.40)                              \n",
      "                                                                                                                          \n",
      "               Molecular Orbital No.   6:                                                                                 \n",
      "               --------------------------                                                                                 \n",
      "               Occupation: 0.000 Energy:    0.04405 a.u.                                                                  \n",
      "               (   1 O   5s  :    -0.96) (   2 H   4s  :     0.83) (   3 H   4s  :     0.83)                              \n",
      "                                                                                                                          \n",
      "               Molecular Orbital No.   7:                                                                                 \n",
      "               --------------------------                                                                                 \n",
      "               Occupation: 0.000 Energy:    0.07206 a.u.                                                                  \n",
      "               (   1 O   4p-1:     0.49) (   2 H   4s  :    -2.63) (   3 H   4s  :     2.63)                              \n",
      "                                                                                                                          \n",
      "               Molecular Orbital No.   8:                                                                                 \n",
      "               --------------------------                                                                                 \n",
      "               Occupation: 0.000 Energy:    0.23552 a.u.                                                                  \n",
      "               (   1 O   4s  :    -0.88) (   1 O   5s  :     2.14) (   1 O   3p0 :    -0.95)                              \n",
      "               (   1 O   4p0 :     1.98) (   2 H   2s  :     0.45) (   2 H   3s  :    -1.08)                              \n",
      "               (   2 H   4s  :    -0.20) (   2 H   2p-1:    -0.18) (   3 H   2s  :     0.45)                              \n",
      "               (   3 H   3s  :    -1.08) (   3 H   4s  :    -0.20) (   3 H   2p-1:     0.18)                              \n",
      "                                                                                                                          \n",
      "               Molecular Orbital No.   9:                                                                                 \n",
      "               --------------------------                                                                                 \n",
      "               Occupation: 0.000 Energy:    0.24573 a.u.                                                                  \n",
      "               (   1 O   3p+1:    -0.60) (   1 O   4p+1:     1.28)                                                        \n",
      "                                                                                                                          \n",
      "               Molecular Orbital No.  10:                                                                                 \n",
      "               --------------------------                                                                                 \n",
      "               Occupation: 0.000 Energy:    0.25348 a.u.                                                                  \n",
      "               (   1 O   4s  :    -0.86) (   1 O   5s  :    -4.08) (   1 O   3p0 :    -0.17)                              \n",
      "               (   1 O   4p0 :    -1.74) (   2 H   3s  :     3.73) (   2 H   4s  :    -0.70)                              \n",
      "               (   3 H   3s  :     3.73) (   3 H   4s  :    -0.70)                                                        \n",
      "                                                                                                                          \n",
      "Molecular Basis (Atomic Basis)\n",
      "================================\n",
      "\n",
      "Basis: 6-311++G(2D,2P)                                \n",
      "\n",
      "  Atom Contracted GTOs          Primitive GTOs           \n",
      "\n",
      "  O   (5S,4P,2D)               (12S,6P,2D)              \n",
      "  H   (4S,2P)                  (6S,2P)                  \n",
      "\n",
      "Contracted Basis Functions : 47                       \n",
      "Primitive Basis Functions  : 64                       \n",
      "\n",
      "\n"
     ]
    }
   ],
   "source": [
    "import veloxchem as vlx\n",
    "import multipsi as mtp\n",
    "import numpy as np\n",
    "HO2_xyz=\"\"\"3\n",
    "O2                                                                                                                         \n",
    "O    0.000000000000        0.000000000000        0.000000000000\n",
    "H    0.000000000000        0.740848095288        0.582094932012\n",
    "H    0.000000000000       -0.740848095288        0.582094932012\n",
    "\"\"\"\n",
    "print('Available basis sets for oxygen:\\n', vlx.MolecularBasis.get_avail_basis('O'))\n",
    "molecule = vlx.Molecule.from_xyz_string(HO2_xyz)\n",
    "#basis = ['STO-3G','6-31G','6-31++G**','6-311++G**','DEF2-SVP','DEF2-SVPD']\n",
    "basis = vlx.MolecularBasis.read(molecule,\"6-311++G(2D,2P)\")\n",
    "scfdrv = vlx.ScfRestrictedDriver()\n",
    "scfdrv.compute(molecule, basis)\n",
    "print(basis.get_string(molecule))\n"
   ]
  },
  {
   "cell_type": "code",
   "execution_count": 57,
   "metadata": {},
   "outputs": [
    {
     "name": "stdout",
     "output_type": "stream",
     "text": [
      "\n",
      "          CI expansion:\n",
      "          -------------\n",
      "Number of determinants:      3\n",
      "\n",
      "\n",
      "47\n"
     ]
    }
   ],
   "source": [
    "space=mtp.OrbSpace(molecule,scfdrv.mol_orbs)\n",
    "space.CAS(2,2)\n",
    "expansion = mtp.CIExpansion(space)\n",
    "print(expansion)\n",
    "print(space.norb)"
   ]
  },
  {
   "cell_type": "code",
   "execution_count": 58,
   "metadata": {},
   "outputs": [],
   "source": [
    "CASham = mtp.CIOperator(molecule=molecule,basis=basis,expansion=expansion)\n",
    "CASham.compute_ints()"
   ]
  },
  {
   "cell_type": "code",
   "execution_count": 59,
   "metadata": {},
   "outputs": [],
   "source": [
    "h1 = CASham.Ftu ## One electron integrals in MO\n",
    "h2 = CASham.tuvw ## Two electron integrals in MO"
   ]
  },
  {
   "cell_type": "code",
   "execution_count": 60,
   "metadata": {},
   "outputs": [
    {
     "name": "stdout",
     "output_type": "stream",
     "text": [
      "\n",
      "          Active space definition:\n",
      "          ------------------------\n",
      "Number of inactive (occupied) orbitals: 4\n",
      "Number of active orbitals:              2\n",
      "Number of virtual orbitals:             41\n",
      "\n",
      "    This is a CASSCF wavefunction: CAS(2,2)\n",
      "\n",
      "          CI expansion:\n",
      "          -------------\n",
      "Number of determinants:      3\n",
      "\n",
      "\n",
      "\n",
      "        CI Iterations\n",
      "        -------------\n",
      "\n",
      "Iteration   Average energy      Time\n",
      "     1        -76.05664557   0:00:00\n",
      "     2        -76.05665027   0:00:00\n",
      "     3        -76.05665027   0:00:00\n",
      "Convergence reached in 3 iterations\n",
      "\n",
      "        Final results\n",
      "        -------------\n",
      "\n",
      "* State 1\n",
      "- Energy: -76.05665027236938\n",
      "- S^2   : 0.00  (multiplicity = 1.0 )\n",
      "- Natural orbitals\n",
      "[1.99999 0.00001]\n"
     ]
    }
   ],
   "source": [
    "CIdrv=mtp.CIDriver(molecule,basis,space)\n",
    "#By default, the guess is done by diagonalising a small segment of the full Hamiltonian\n",
    "#here set the dimension of this Hamiltonian to 1, which corresponds to simply starting from a single SD\n",
    "CIdrv.nguess=1\n",
    "CIdrv.compute(1)\n"
   ]
  },
  {
   "cell_type": "code",
   "execution_count": 61,
   "metadata": {},
   "outputs": [],
   "source": [
    "from qiskit_nature.properties.second_quantization.electronic.integrals import (OneBodyElectronicIntegrals,\n",
    "TwoBodyElectronicIntegrals,)\n",
    "from qiskit_nature.properties.second_quantization.electronic.electronic_energy import ElectronicEnergy\n",
    "from qiskit_nature.properties.second_quantization.electronic.bases import ElectronicBasis"
   ]
  },
  {
   "cell_type": "code",
   "execution_count": 62,
   "metadata": {},
   "outputs": [],
   "source": [
    "h1_so = OneBodyElectronicIntegrals(ElectronicBasis.MO,(h1,h1)).to_spin()\n",
    "H1 = OneBodyElectronicIntegrals(ElectronicBasis.SO,h1_so,)\n",
    "h2_so = TwoBodyElectronicIntegrals(ElectronicBasis.MO,(h2,h2,h2,h2)).to_spin()\n",
    "H2 = TwoBodyElectronicIntegrals(ElectronicBasis.SO,h2_so,)"
   ]
  },
  {
   "cell_type": "code",
   "execution_count": 63,
   "metadata": {},
   "outputs": [
    {
     "name": "stdout",
     "output_type": "stream",
     "text": [
      "ElectronicEnergy\n",
      "\t(SO) 1-Body Terms:\n",
      "\t\t<(4, 4) matrix with 4 non-zero entries>\n",
      "\t\t[0, 0] = -1.2502132025117152\n",
      "\t\t[1, 1] = -0.35246033620532763\n",
      "\t\t[2, 2] = -1.2502132025117152\n",
      "\t\t[3, 3] = -0.35246033620532763\n",
      "\t(SO) 2-Body Terms:\n",
      "\t\t<(4, 4, 4, 4) matrix with 32 non-zero entries>\n",
      "\t\t[0, 0, 0, 0] = -0.36943378871397536\n",
      "\t\t[0, 0, 1, 1] = -0.0012000949834511912\n",
      "\t\t[0, 1, 0, 1] = -0.0012000949834511912\n",
      "\t\t[0, 1, 1, 0] = -0.09972804073497063\n",
      "\t\t[0, 2, 2, 0] = -0.36943378871397536\n",
      "\t\t... skipping 27 entries\n"
     ]
    }
   ],
   "source": [
    "electronic_energy = ElectronicEnergy([H1,H2])\n",
    "print(electronic_energy)"
   ]
  },
  {
   "cell_type": "code",
   "execution_count": 64,
   "metadata": {},
   "outputs": [
    {
     "name": "stdout",
     "output_type": "stream",
     "text": [
      "Fermionic Operator\n",
      "register length=4, number terms=14\n",
      "  (0.0024001899669023824+0j) * ( +_0 -_1 +_2 -_3 )\n",
      "+ (-0.002400189966902379+0j) * ( +_0 -_1 -_2 +_3 )\n",
      "+ (-0.002400189966902379+0j) * ( -_0 +_1 +_2 -_3 )\n",
      "+ (0.002400189966902374+0j) * ( -_0 +_1 -_2 ...\n"
     ]
    }
   ],
   "source": [
    "hamiltonian = electronic_energy.second_q_ops()[0]\n",
    "print(hamiltonian)"
   ]
  },
  {
   "cell_type": "code",
   "execution_count": 65,
   "metadata": {},
   "outputs": [],
   "source": [
    "from qiskit_nature.converters.second_quantization import QubitConverter\n",
    "from qiskit_nature.mappers.second_quantization import BravyiKitaevMapper\n",
    "\n",
    "BK_conv = QubitConverter(BravyiKitaevMapper())"
   ]
  },
  {
   "cell_type": "code",
   "execution_count": 66,
   "metadata": {},
   "outputs": [
    {
     "name": "stdout",
     "output_type": "stream",
     "text": [
      "0.0006000474917255946 * ZXIX\n",
      "- 0.0006000474917255946 * IXZX\n",
      "- 0.0006000474917255946 * ZXZX\n",
      "+ 0.0006000474917255946 * IXIX\n",
      "- 1.177259546538304 * IIII\n",
      "+ 0.03466106352415646 * ZZZI\n",
      "+ 0.34126171365562474 * IZII\n",
      "+ 0.049263972875759746 * ZIZI\n",
      "+ 0.03466106352415657 * IIZZ\n",
      "+ 0.04244111133526223 * ZZIZ\n",
      "+ 0.04986402036748534 * IZZZ\n",
      "+ 0.3412617136556247 * IIIZ\n",
      "+ 0.04986402036748534 * ZZZZ\n",
      "+ 0.18471689435698768 * IZIZ\n",
      "+ 0.049263972875759746 * IIZI\n"
     ]
    }
   ],
   "source": [
    "qbit_op = BK_conv.convert(hamiltonian)\n",
    "print(qbit_op)"
   ]
  },
  {
   "cell_type": "code",
   "execution_count": 73,
   "metadata": {},
   "outputs": [],
   "source": [
    "from qiskit.algorithms import VQE\n",
    "from qiskit_nature.circuit.library import HartreeFock\n",
    "from qiskit_nature.circuit.library import UCCSD \n",
    "num_orbitals= 4\n",
    "num_particles =(1,1)\n",
    "init_state = HartreeFock(num_orbitals,num_particles,BK_conv)\n",
    "ansatz = UCCSD(BK_conv,num_particles,num_orbitals,reps=10,initial_state=init_state)\n",
    "#ansatz.decompose().draw('mpl',style='iqx')"
   ]
  },
  {
   "cell_type": "code",
   "execution_count": 74,
   "metadata": {},
   "outputs": [
    {
     "name": "stdout",
     "output_type": "stream",
     "text": [
      "{   'aux_operator_eigenvalues': None,\n",
      "    'cost_function_evals': 64,\n",
      "    'eigenstate': array([ 0.00000000e+00+0.00000000e+00j,  0.00000000e+00+0.00000000e+00j,\n",
      "       -1.95708511e-03+3.93721499e-17j, -5.44540207e-09-8.40880959e-16j,\n",
      "        0.00000000e+00+0.00000000e+00j,  0.00000000e+00+0.00000000e+00j,\n",
      "        2.49086924e-08-1.76647385e-15j,  9.99998085e-01-1.13437418e-14j,\n",
      "        0.00000000e+00+0.00000000e+00j,  0.00000000e+00+0.00000000e+00j,\n",
      "        0.00000000e+00+0.00000000e+00j,  0.00000000e+00+0.00000000e+00j,\n",
      "        0.00000000e+00+0.00000000e+00j,  0.00000000e+00+0.00000000e+00j,\n",
      "        0.00000000e+00+0.00000000e+00j,  0.00000000e+00+0.00000000e+00j]),\n",
      "    'eigenvalue': (-1.7615635249842598+0j),\n",
      "    'optimal_parameters': {   ParameterVectorElement(t[8]): 0.00019570304681034808,\n",
      "                              ParameterVectorElement(t[3]): -3.6450897626230104e-09,\n",
      "                              ParameterVectorElement(t[7]): 4.252604723060178e-09,\n",
      "                              ParameterVectorElement(t[1]): 3.0375748021858415e-09,\n",
      "                              ParameterVectorElement(t[0]): -3.0375748021858415e-09,\n",
      "                              ParameterVectorElement(t[29]): 0.00019571033698987335,\n",
      "                              ParameterVectorElement(t[2]): 0.00019571033698987335,\n",
      "                              ParameterVectorElement(t[6]): -1.8225448813115052e-09,\n",
      "                              ParameterVectorElement(t[10]): 3.0375748021858415e-09,\n",
      "                              ParameterVectorElement(t[4]): -3.6450897626230104e-09,\n",
      "                              ParameterVectorElement(t[5]): 0.00019570790693003158,\n",
      "                              ParameterVectorElement(t[9]): 0.0,\n",
      "                              ParameterVectorElement(t[11]): 0.00019571033698987335,\n",
      "                              ParameterVectorElement(t[23]): 0.0001957115520197942,\n",
      "                              ParameterVectorElement(t[16]): 0.0,\n",
      "                              ParameterVectorElement(t[24]): -3.0375748021858415e-09,\n",
      "                              ParameterVectorElement(t[13]): 1.8225448813115052e-09,\n",
      "                              ParameterVectorElement(t[22]): -6.075149604371683e-10,\n",
      "                              ParameterVectorElement(t[12]): -3.6450897626230104e-09,\n",
      "                              ParameterVectorElement(t[20]): 0.00019570547687018986,\n",
      "                              ParameterVectorElement(t[21]): -1.8225448813115052e-09,\n",
      "                              ParameterVectorElement(t[18]): -3.0375748021858415e-09,\n",
      "                              ParameterVectorElement(t[19]): -6.075149604371683e-10,\n",
      "                              ParameterVectorElement(t[25]): 0.0,\n",
      "                              ParameterVectorElement(t[26]): 0.00019570912195995246,\n",
      "                              ParameterVectorElement(t[27]): -3.0375748021858415e-09,\n",
      "                              ParameterVectorElement(t[28]): -1.8225448813115052e-09,\n",
      "                              ParameterVectorElement(t[17]): 0.00019570790693003158,\n",
      "                              ParameterVectorElement(t[15]): -1.8225448813115052e-09,\n",
      "                              ParameterVectorElement(t[14]): 0.00019571033698987335},\n",
      "    'optimal_point': array([-0.00000, 0.00000, 0.00020, -0.00000, -0.00000, 0.00020, -0.00000,\n",
      "       0.00000, 0.00020, 0.00000, 0.00000, 0.00020, -0.00000, 0.00000,\n",
      "       0.00020, -0.00000, 0.00000, 0.00020, -0.00000, -0.00000, 0.00020,\n",
      "       -0.00000, -0.00000, 0.00020, -0.00000, 0.00000, 0.00020, -0.00000,\n",
      "       -0.00000, 0.00020]),\n",
      "    'optimal_value': -1.7615635249842598,\n",
      "    'optimizer_evals': None,\n",
      "    'optimizer_time': 1.3354759216308594}\n"
     ]
    }
   ],
   "source": [
    "from qiskit.providers.aer import StatevectorSimulator\n",
    "backend = StatevectorSimulator()\n",
    "from qiskit.algorithms.optimizers import SLSQP\n",
    "algorithm = VQE(ansatz,SLSQP(maxiter=1e6,tol=1e-12),quantum_instance=backend)\n",
    "result = algorithm.compute_minimum_eigenvalue(qbit_op)\n",
    "print(result)"
   ]
  },
  {
   "cell_type": "code",
   "execution_count": 69,
   "metadata": {},
   "outputs": [],
   "source": [
    "def cas_energy(result):\n",
    "    'Uses the eigenvalue from the VQE to compute the CAS-SCF energy'\n",
    "    print ('Inactive space contribution in a.u.:',float(CIdrv.ham.inEne))\n",
    "    print ('VQE energy for the active space in a.u.:',result.eigenvalue.real)\n",
    "    print ('Nuclear repulsion in a.u.:',molecule.nuclear_repulsion_energy())\n",
    "    print ('CASSCF-VQE energy in a.u.:',float(CIdrv.ham.inEne)+result.eigenvalue.real)\n",
    "    casscf_vqe = float(CIdrv.ham.inEne)+result.eigenvalue.real\n",
    "    return casscf_vqe"
   ]
  },
  {
   "cell_type": "code",
   "execution_count": 70,
   "metadata": {},
   "outputs": [
    {
     "name": "stdout",
     "output_type": "stream",
     "text": [
      "Inactive space contribution in a.u.: -74.29508674738514\n",
      "VQE energy for the active space in a.u.: -1.7615635249842598\n",
      "Nuclear repulsion in a.u.: 9.343638157670377\n",
      "CASSCF-VQE energy in a.u.: -76.0566502723694\n"
     ]
    }
   ],
   "source": [
    "casscf_vqe = cas_energy(result)"
   ]
  },
  {
   "cell_type": "code",
   "execution_count": 71,
   "metadata": {},
   "outputs": [
    {
     "name": "stdout",
     "output_type": "stream",
     "text": [
      "-8.91745344233641e-12 kcal/mol\n"
     ]
    }
   ],
   "source": [
    "multipsi_cas = -76.05665027236938\n",
    "comparision_vqe_ve = casscf_vqe - multipsi_cas\n",
    "print(comparision_vqe_ve*627.51,'kcal/mol')\n"
   ]
  },
  {
   "cell_type": "code",
   "execution_count": null,
   "metadata": {},
   "outputs": [],
   "source": []
  }
 ],
 "metadata": {
  "interpreter": {
   "hash": "28efdd175bdf4e129347213e0fdbdf50e107b5f96934fef5d7a4b86b512a33df"
  },
  "kernelspec": {
   "display_name": "Python 3.9.12 ('vlxmp')",
   "language": "python",
   "name": "python3"
  },
  "language_info": {
   "codemirror_mode": {
    "name": "ipython",
    "version": 3
   },
   "file_extension": ".py",
   "mimetype": "text/x-python",
   "name": "python",
   "nbconvert_exporter": "python",
   "pygments_lexer": "ipython3",
   "version": "3.9.12"
  },
  "orig_nbformat": 4
 },
 "nbformat": 4,
 "nbformat_minor": 2
}
