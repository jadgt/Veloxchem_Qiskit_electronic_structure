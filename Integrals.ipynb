{
 "cells": [
  {
   "cell_type": "markdown",
   "metadata": {},
   "source": [
    "# Interfacing Veloxchem as SCF driver with Qiskit Nature\n",
    "\n",
    "The aim of this tutorial is to show how to use VeloxChem as an SCF driver to generate the one and two electron integrals that will be converted to Qbits and can be used as an input for Qiskit Nature Quantum Algorithms and get molecular energies and properties"
   ]
  },
  {
   "cell_type": "code",
   "execution_count": null,
   "metadata": {},
   "outputs": [],
   "source": [
    "import veloxchem as vlx\n",
    "from qiskit_nature.operators import second_quantization\n",
    "from qiskit_nature.problems.second_quantization import ElectronicStructureProblem\n",
    "from qiskit_nature.drivers.molecule import Molecule\n",
    "import numpy as np"
   ]
  },
  {
   "cell_type": "code",
   "execution_count": null,
   "metadata": {},
   "outputs": [],
   "source": [
    "geometry = mol_str = \"\"\"\n",
    "O    0.000000000000        0.000000000000        0.000000000000\n",
    "H    0.000000000000        0.740848095288        0.582094932012\n",
    "H    0.000000000000       -0.740848095288        0.582094932012\n",
    "\"\"\"\n",
    "\n",
    "molecule = vlx.Molecule.read_str(mol_str, units='angstrom')\n",
    "basis = vlx.MolecularBasis.read(molecule, 'sto-3g')"
   ]
  },
  {
   "cell_type": "code",
   "execution_count": null,
   "metadata": {},
   "outputs": [],
   "source": [
    "nbas = vlx.MolecularBasis.get_dimensions_of_basis(basis, molecule)\n",
    "nocc = molecule.number_of_electrons() // 2\n",
    "V_nuc = molecule.nuclear_repulsion_energy()\n",
    "\n",
    "print('Number of contracted basis functions:', nbas)\n",
    "print('Number of doubly occupied molecular orbitals:', nocc)\n",
    "print(f'Nuclear repulsion energy (in a.u.): {V_nuc : 14.12f}')"
   ]
  },
  {
   "cell_type": "markdown",
   "metadata": {},
   "source": [
    "Getting the integrals "
   ]
  },
  {
   "cell_type": "code",
   "execution_count": null,
   "metadata": {},
   "outputs": [],
   "source": [
    "# overlap matrix\n",
    "overlap_drv = vlx.OverlapIntegralsDriver()\n",
    "S = overlap_drv.compute(molecule, basis).to_numpy()\n",
    "\n",
    "# one-electron Hamiltonian\n",
    "kinetic_drv = vlx.KineticEnergyIntegralsDriver()\n",
    "T = kinetic_drv.compute(molecule, basis).to_numpy()\n",
    "\n",
    "nucpot_drv = vlx.NuclearPotentialIntegralsDriver()\n",
    "V = -nucpot_drv.compute(molecule, basis).to_numpy()\n",
    "\n",
    "h = T + V \n",
    "h_alpha = h\n",
    "h_beta = h_alpha\n",
    "\n",
    "# two-electron Hamiltonian\n",
    "eri_drv = vlx.ElectronRepulsionIntegralsDriver()\n",
    "g = np.zeros((nbas, nbas, nbas, nbas))\n",
    "g_aa = g\n",
    "g_bb = g_aa\n",
    "g_ab = g_aa\n",
    "g_ba = g_ab\n",
    "eri_drv.compute_in_mem(molecule, basis, g)\n",
    "\n",
    "\n"
   ]
  },
  {
   "cell_type": "markdown",
   "metadata": {},
   "source": [
    "Classic SCF Driver solution for the electronic ground state energy"
   ]
  },
  {
   "cell_type": "code",
   "execution_count": null,
   "metadata": {},
   "outputs": [],
   "source": [
    "# symmetric transformation\n",
    "sigma, U = np.linalg.eigh(S)\n",
    "X = np.einsum('ik,k,jk->ij', U, 1/np.sqrt(sigma), U)"
   ]
  },
  {
   "cell_type": "code",
   "execution_count": null,
   "metadata": {},
   "outputs": [],
   "source": [
    "def get_MO_coeff(F):\n",
    "\n",
    "    F_OAO = np.einsum('ki,kl,lj->ij', X, F, X)\n",
    "    epsilon, C_OAO = np.linalg.eigh(F_OAO)    \n",
    "    C = np.einsum(\"ik,kj->ij\", X, C_OAO)\n",
    "    \n",
    "    return C\n",
    "\n"
   ]
  },
  {
   "cell_type": "code",
   "execution_count": null,
   "metadata": {},
   "outputs": [],
   "source": [
    "max_iter = 50\n",
    "conv_thresh = 1e-4\n",
    "\n",
    "# initial guess from core Hamiltonian\n",
    "C = get_MO_coeff(h)\n",
    "\n",
    "print(\"iter      SCF energy    Error norm\")\n",
    "\n",
    "for iter in range(max_iter):\n",
    "    \n",
    "    D = np.einsum('ik,jk->ij', C[:, :nocc], C[:, :nocc])\n",
    "        \n",
    "    J = np.einsum('ijkl,kl->ij', g, D)\n",
    "    K = np.einsum('ilkj,kl->ij', g, D)\n",
    "    F = h + 2*J - K\n",
    "    \n",
    "    E = np.einsum('ij,ij->', h + F, D) + V_nuc\n",
    "\n",
    "    # compute convergence metric\n",
    "    F_MO = np.einsum('ki,kl,lj->ij', C, F, C)\n",
    "    e_vec = np.reshape(F_MO[:nocc, nocc:], -1)\n",
    "    error = np.linalg.norm(e_vec)\n",
    "\n",
    "    print(f'{iter:>2d}  {E:16.8f}  {error:10.2e}')\n",
    "\n",
    "    if error < conv_thresh:\n",
    "        print('SCF iterations converged!')\n",
    "        break\n",
    "    \n",
    "    C = get_MO_coeff(F)\n"
   ]
  },
  {
   "cell_type": "markdown",
   "metadata": {},
   "source": [
    "Now we compare with the Qiskit built-in SCF Driver PySCFDriver "
   ]
  },
  {
   "cell_type": "code",
   "execution_count": null,
   "metadata": {},
   "outputs": [],
   "source": [
    "from qiskit_nature.settings import settings\n",
    "from qiskit_nature.drivers.second_quantization import PySCFDriver\n",
    "from qiskit_nature.drivers.units_type import UnitsType\n",
    "from qiskit_nature.problems.second_quantization.electronic import ElectronicStructureProblem\n",
    "settings.dict_aux_operators = True\n",
    "driver = PySCFDriver(atom='O 0.00000 0.00000 0.11779; H 0.00000 0.75545 -0.47116; H 0.00000 -0.75545 -0.47116',\n",
    "                     unit=UnitsType.ANGSTROM,\n",
    "                     basis='sto3g')\n",
    "problem = ElectronicStructureProblem(driver)"
   ]
  },
  {
   "cell_type": "markdown",
   "metadata": {},
   "source": [
    "One and two electrons in Qiskit Nature format from PySCF"
   ]
  },
  {
   "cell_type": "code",
   "execution_count": null,
   "metadata": {},
   "outputs": [],
   "source": [
    "properties = problem.driver.run()\n",
    "electronic_energy = properties.get_property('ElectronicEnergy')\n",
    "from qiskit_nature.properties.second_quantization.electronic.bases import ElectronicBasis\n",
    "\n",
    "one_body_ao = electronic_energy.get_electronic_integral(ElectronicBasis.AO, 1)\n",
    "two_body_ao = electronic_energy.get_electronic_integral(ElectronicBasis.AO, 2)\n",
    "print(one_body_ao)\n",
    "print(two_body_ao)"
   ]
  },
  {
   "cell_type": "markdown",
   "metadata": {},
   "source": [
    "We are aiming to get the fermionic operators looking like this so we can use a converter and a mapper to transform those into Qbits"
   ]
  },
  {
   "cell_type": "code",
   "execution_count": null,
   "metadata": {},
   "outputs": [],
   "source": [
    "second_q_ops = problem.second_q_ops()['ElectronicEnergy']\n",
    "print(second_q_ops)\n",
    "problem.num_spin_orbitals\n",
    "problem.num_particles\n"
   ]
  },
  {
   "cell_type": "markdown",
   "metadata": {},
   "source": [
    "Importing all the modules needed"
   ]
  },
  {
   "cell_type": "code",
   "execution_count": null,
   "metadata": {},
   "outputs": [],
   "source": [
    "from qiskit_nature.properties.second_quantization.electronic.integrals import (\n",
    "    ElectronicIntegrals,\n",
    "    OneBodyElectronicIntegrals,\n",
    "    TwoBodyElectronicIntegrals,\n",
    "    IntegralProperty,\n",
    ")\n",
    "from qiskit_nature.properties.second_quantization.electronic.bases import ElectronicBasis\n",
    "from qiskit_nature.properties.second_quantization.electronic.electronic_energy import ElectronicEnergy"
   ]
  },
  {
   "cell_type": "markdown",
   "metadata": {},
   "source": [
    "Transformation of the one and two electron integrals coming from VeloxChem from atomic orbital (AO) basis to spin orbital (SO) basis and formatting to Qiskit Nature"
   ]
  },
  {
   "cell_type": "code",
   "execution_count": null,
   "metadata": {},
   "outputs": [],
   "source": [
    "h1 = OneBodyElectronicIntegrals(ElectronicBasis.AO,(h_alpha,h_beta),ElectronicIntegrals.INTEGRAL_TRUNCATION_LEVEL == 1).to_spin()\n",
    "h1_so = OneBodyElectronicIntegrals(ElectronicBasis.SO,h1,) ## Just a reformatting so the integrals has the qiskit required format\n",
    "h2 = TwoBodyElectronicIntegrals(ElectronicBasis.AO,(g_aa,g_bb,g_ab,g_ba),ElectronicIntegrals.INTEGRAL_TRUNCATION_LEVEL == 1).to_spin()\n",
    "h2_so = TwoBodyElectronicIntegrals(ElectronicBasis.SO,h2,)## Just a reformatting so the integrals has the qiskit required format\n",
    "electronic_energy = ElectronicEnergy([h1_so,h2_so])\n",
    "print(electronic_energy)"
   ]
  },
  {
   "cell_type": "markdown",
   "metadata": {},
   "source": [
    "Electronic energy in the form of fermionic operators"
   ]
  },
  {
   "cell_type": "code",
   "execution_count": null,
   "metadata": {},
   "outputs": [],
   "source": [
    "hamiltonian = electronic_energy.second_q_ops()['ElectronicEnergy']\n",
    "print(hamiltonian)"
   ]
  },
  {
   "cell_type": "code",
   "execution_count": null,
   "metadata": {},
   "outputs": [],
   "source": [
    "from qiskit_nature.converters.second_quantization import QubitConverter\n",
    "from qiskit_nature.mappers.second_quantization import JordanWignerMapper"
   ]
  },
  {
   "cell_type": "markdown",
   "metadata": {},
   "source": [
    "Electronic structure in the form of Qbits"
   ]
  },
  {
   "cell_type": "code",
   "execution_count": null,
   "metadata": {},
   "outputs": [],
   "source": [
    "qbit_converter = QubitConverter(mapper=JordanWignerMapper())\n",
    "q_bit_op = qbit_converter.convert(hamiltonian)\n",
    "print(q_bit_op)"
   ]
  },
  {
   "cell_type": "markdown",
   "metadata": {},
   "source": [
    "Solving the electronic structure with the VQE and using UCCSD as an ansatz"
   ]
  },
  {
   "cell_type": "code",
   "execution_count": null,
   "metadata": {},
   "outputs": [],
   "source": [
    "from qiskit_nature.circuit.library import UCCSD\n",
    "from qiskit_nature.circuit.library import HartreeFock\n",
    "init_state = HartreeFock(14,(nocc,nocc),qbit_converter)\n",
    "ansatz = UCCSD(qbit_converter,(nocc,nocc), 14,reps=2,initial_state=init_state)\n",
    "#ansatz.decompose().draw('mpl', style='iqx') ## The ansatz representation is too large"
   ]
  },
  {
   "cell_type": "markdown",
   "metadata": {},
   "source": [
    "Backend - Quantum computer simulator"
   ]
  },
  {
   "cell_type": "code",
   "execution_count": null,
   "metadata": {},
   "outputs": [],
   "source": [
    "from qiskit import Aer # Backend for the simulator\n",
    "\n",
    "backend = Aer.get_backend('aer_simulator_statevector')"
   ]
  },
  {
   "cell_type": "markdown",
   "metadata": {},
   "source": [
    "Electronic Structure Algorithm solver"
   ]
  },
  {
   "cell_type": "code",
   "execution_count": null,
   "metadata": {},
   "outputs": [],
   "source": [
    "from qiskit.algorithms.optimizers import SLSQP\n",
    "from qiskit.algorithms import VQE\n",
    "\n",
    "optimizer = SLSQP()\n",
    "\n",
    "algorithm = VQE(ansatz,\n",
    "                optimizer=optimizer,\n",
    "                quantum_instance=backend)\n",
    "\n",
    "result = algorithm.compute_minimum_eigenvalue(q_bit_op)\n",
    "print(result.eigenvalue.real)\n",
    "\n",
    "electronic_structure_result_uccsd = problem.interpret(result)\n",
    "print(electronic_structure_result_uccsd)\n",
    "## It takes extremely long in the Quantum Computer Simulator"
   ]
  },
  {
   "cell_type": "markdown",
   "metadata": {},
   "source": [
    "Reducing by 2 the number of Qbits with the parity mapper"
   ]
  },
  {
   "cell_type": "code",
   "execution_count": null,
   "metadata": {},
   "outputs": [],
   "source": [
    "from qiskit_nature.mappers.second_quantization import ParityMapper\n",
    "\n",
    "parity_mapper = ParityMapper()\n",
    "parity_converter = QubitConverter(parity_mapper, two_qubit_reduction=True)\n",
    "## This converter will need as a second argument the number of particles, we can get that from the problem or the properties\n",
    "qbit_op_parity = parity_converter.convert(hamiltonian,(nocc,nocc))\n",
    "print(qbit_op_parity)\n",
    "## This new qbit hamiltonian has 12 qbits instead of 14"
   ]
  }
 ],
 "metadata": {
  "interpreter": {
   "hash": "31f2aee4e71d21fbe5cf8b01ff0e069b9275f58929596ceb00d14d90e3e16cd6"
  },
  "kernelspec": {
   "display_name": "Python 3.8.9 64-bit",
   "language": "python",
   "name": "python3"
  },
  "language_info": {
   "codemirror_mode": {
    "name": "ipython",
    "version": 3
   },
   "file_extension": ".py",
   "mimetype": "text/x-python",
   "name": "python",
   "nbconvert_exporter": "python",
   "pygments_lexer": "ipython3",
   "version": "3.9.10"
  },
  "orig_nbformat": 4
 },
 "nbformat": 4,
 "nbformat_minor": 2
}
